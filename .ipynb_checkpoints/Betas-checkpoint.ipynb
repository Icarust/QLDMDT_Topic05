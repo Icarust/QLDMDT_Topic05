{
 "cells": [
  {
   "cell_type": "markdown",
   "id": "73924362",
   "metadata": {},
   "source": [
    "## Quản lý danh mục đầu tư\n",
    "Nhóm chủ đề 05: Vận dụng các mô hình định giá tài sản để định giá cổ phiếu"
   ]
  },
  {
   "cell_type": "code",
   "execution_count": 1,
   "id": "0cbf4285",
   "metadata": {},
   "outputs": [],
   "source": [
    "import numpy as np\n",
    "import pandas as pd\n",
    "from scipy import stats\n",
    "import statsmodels.api as sm\n",
    "import seaborn as sns\n",
    "import matplotlib.pyplot as plt\n",
    "import Input_Inv as Input\n",
    "\n",
    "%load_ext autoreload\n",
    "%autoreload 2"
   ]
  },
  {
   "cell_type": "code",
   "execution_count": 3,
   "id": "8bb150b8",
   "metadata": {},
   "outputs": [],
   "source": [
    "tickers = ['PHR.csv','DPR.csv','TRC.csv','GVR.csv','VNIndex.csv']\n",
    "port = pd.DataFrame()\n",
    "for t in tickers:\n",
    "    port[t] = Input.read_data(t)['Close']"
   ]
  },
  {
   "cell_type": "code",
   "execution_count": 4,
   "id": "53c4392c",
   "metadata": {},
   "outputs": [
    {
     "data": {
      "text/html": [
       "<div>\n",
       "<style scoped>\n",
       "    .dataframe tbody tr th:only-of-type {\n",
       "        vertical-align: middle;\n",
       "    }\n",
       "\n",
       "    .dataframe tbody tr th {\n",
       "        vertical-align: top;\n",
       "    }\n",
       "\n",
       "    .dataframe thead th {\n",
       "        text-align: right;\n",
       "    }\n",
       "</style>\n",
       "<table border=\"1\" class=\"dataframe\">\n",
       "  <thead>\n",
       "    <tr style=\"text-align: right;\">\n",
       "      <th></th>\n",
       "      <th>PHR.csv</th>\n",
       "      <th>DPR.csv</th>\n",
       "      <th>TRC.csv</th>\n",
       "      <th>GVR.csv</th>\n",
       "      <th>VNIndex.csv</th>\n",
       "    </tr>\n",
       "    <tr>\n",
       "      <th>Date</th>\n",
       "      <th></th>\n",
       "      <th></th>\n",
       "      <th></th>\n",
       "      <th></th>\n",
       "      <th></th>\n",
       "    </tr>\n",
       "  </thead>\n",
       "  <tbody>\n",
       "    <tr>\n",
       "      <th>2020-06-01</th>\n",
       "      <td>53000.0</td>\n",
       "      <td>38700.0</td>\n",
       "      <td>28300.0</td>\n",
       "      <td>12850</td>\n",
       "      <td>878.67</td>\n",
       "    </tr>\n",
       "    <tr>\n",
       "      <th>2020-06-02</th>\n",
       "      <td>51100.0</td>\n",
       "      <td>38100.0</td>\n",
       "      <td>28200.0</td>\n",
       "      <td>12550</td>\n",
       "      <td>874.80</td>\n",
       "    </tr>\n",
       "    <tr>\n",
       "      <th>2020-06-03</th>\n",
       "      <td>54500.0</td>\n",
       "      <td>38150.0</td>\n",
       "      <td>28400.0</td>\n",
       "      <td>13000</td>\n",
       "      <td>881.17</td>\n",
       "    </tr>\n",
       "    <tr>\n",
       "      <th>2020-06-04</th>\n",
       "      <td>53700.0</td>\n",
       "      <td>38150.0</td>\n",
       "      <td>30000.0</td>\n",
       "      <td>12700</td>\n",
       "      <td>883.90</td>\n",
       "    </tr>\n",
       "    <tr>\n",
       "      <th>2020-06-05</th>\n",
       "      <td>54600.0</td>\n",
       "      <td>38250.0</td>\n",
       "      <td>29500.0</td>\n",
       "      <td>12900</td>\n",
       "      <td>886.22</td>\n",
       "    </tr>\n",
       "    <tr>\n",
       "      <th>...</th>\n",
       "      <td>...</td>\n",
       "      <td>...</td>\n",
       "      <td>...</td>\n",
       "      <td>...</td>\n",
       "      <td>...</td>\n",
       "    </tr>\n",
       "    <tr>\n",
       "      <th>2023-05-26</th>\n",
       "      <td>46000.0</td>\n",
       "      <td>56300.0</td>\n",
       "      <td>28600.0</td>\n",
       "      <td>17200</td>\n",
       "      <td>1063.76</td>\n",
       "    </tr>\n",
       "    <tr>\n",
       "      <th>2023-05-29</th>\n",
       "      <td>46000.0</td>\n",
       "      <td>56700.0</td>\n",
       "      <td>29000.0</td>\n",
       "      <td>18200</td>\n",
       "      <td>1074.98</td>\n",
       "    </tr>\n",
       "    <tr>\n",
       "      <th>2023-05-30</th>\n",
       "      <td>45800.0</td>\n",
       "      <td>56500.0</td>\n",
       "      <td>NaN</td>\n",
       "      <td>18400</td>\n",
       "      <td>1078.05</td>\n",
       "    </tr>\n",
       "    <tr>\n",
       "      <th>2023-05-31</th>\n",
       "      <td>47500.0</td>\n",
       "      <td>56200.0</td>\n",
       "      <td>29000.0</td>\n",
       "      <td>18200</td>\n",
       "      <td>1075.17</td>\n",
       "    </tr>\n",
       "    <tr>\n",
       "      <th>2023-06-01</th>\n",
       "      <td>47600.0</td>\n",
       "      <td>56000.0</td>\n",
       "      <td>29000.0</td>\n",
       "      <td>18800</td>\n",
       "      <td>1076.15</td>\n",
       "    </tr>\n",
       "  </tbody>\n",
       "</table>\n",
       "<p>752 rows × 5 columns</p>\n",
       "</div>"
      ],
      "text/plain": [
       "            PHR.csv  DPR.csv  TRC.csv  GVR.csv  VNIndex.csv\n",
       "Date                                                       \n",
       "2020-06-01  53000.0  38700.0  28300.0    12850       878.67\n",
       "2020-06-02  51100.0  38100.0  28200.0    12550       874.80\n",
       "2020-06-03  54500.0  38150.0  28400.0    13000       881.17\n",
       "2020-06-04  53700.0  38150.0  30000.0    12700       883.90\n",
       "2020-06-05  54600.0  38250.0  29500.0    12900       886.22\n",
       "...             ...      ...      ...      ...          ...\n",
       "2023-05-26  46000.0  56300.0  28600.0    17200      1063.76\n",
       "2023-05-29  46000.0  56700.0  29000.0    18200      1074.98\n",
       "2023-05-30  45800.0  56500.0      NaN    18400      1078.05\n",
       "2023-05-31  47500.0  56200.0  29000.0    18200      1075.17\n",
       "2023-06-01  47600.0  56000.0  29000.0    18800      1076.15\n",
       "\n",
       "[752 rows x 5 columns]"
      ]
     },
     "execution_count": 4,
     "metadata": {},
     "output_type": "execute_result"
    }
   ],
   "source": [
    "port"
   ]
  },
  {
   "cell_type": "markdown",
   "id": "db7a32a8",
   "metadata": {},
   "source": [
    "## Chuẩn hóa Variables"
   ]
  },
  {
   "cell_type": "code",
   "execution_count": 5,
   "id": "dda9fccc",
   "metadata": {},
   "outputs": [
    {
     "data": {
      "text/html": [
       "<div>\n",
       "<style scoped>\n",
       "    .dataframe tbody tr th:only-of-type {\n",
       "        vertical-align: middle;\n",
       "    }\n",
       "\n",
       "    .dataframe tbody tr th {\n",
       "        vertical-align: top;\n",
       "    }\n",
       "\n",
       "    .dataframe thead th {\n",
       "        text-align: right;\n",
       "    }\n",
       "</style>\n",
       "<table border=\"1\" class=\"dataframe\">\n",
       "  <thead>\n",
       "    <tr style=\"text-align: right;\">\n",
       "      <th></th>\n",
       "      <th>PHR</th>\n",
       "      <th>DPR</th>\n",
       "      <th>TRC</th>\n",
       "      <th>GVR</th>\n",
       "      <th>VNIndex</th>\n",
       "    </tr>\n",
       "    <tr>\n",
       "      <th>Date</th>\n",
       "      <th></th>\n",
       "      <th></th>\n",
       "      <th></th>\n",
       "      <th></th>\n",
       "      <th></th>\n",
       "    </tr>\n",
       "  </thead>\n",
       "  <tbody>\n",
       "    <tr>\n",
       "      <th>2020-06-01</th>\n",
       "      <td>53000.0</td>\n",
       "      <td>38700.0</td>\n",
       "      <td>28300.0</td>\n",
       "      <td>12850</td>\n",
       "      <td>878.67</td>\n",
       "    </tr>\n",
       "    <tr>\n",
       "      <th>2020-06-02</th>\n",
       "      <td>51100.0</td>\n",
       "      <td>38100.0</td>\n",
       "      <td>28200.0</td>\n",
       "      <td>12550</td>\n",
       "      <td>874.80</td>\n",
       "    </tr>\n",
       "    <tr>\n",
       "      <th>2020-06-03</th>\n",
       "      <td>54500.0</td>\n",
       "      <td>38150.0</td>\n",
       "      <td>28400.0</td>\n",
       "      <td>13000</td>\n",
       "      <td>881.17</td>\n",
       "    </tr>\n",
       "    <tr>\n",
       "      <th>2020-06-04</th>\n",
       "      <td>53700.0</td>\n",
       "      <td>38150.0</td>\n",
       "      <td>30000.0</td>\n",
       "      <td>12700</td>\n",
       "      <td>883.90</td>\n",
       "    </tr>\n",
       "    <tr>\n",
       "      <th>2020-06-05</th>\n",
       "      <td>54600.0</td>\n",
       "      <td>38250.0</td>\n",
       "      <td>29500.0</td>\n",
       "      <td>12900</td>\n",
       "      <td>886.22</td>\n",
       "    </tr>\n",
       "    <tr>\n",
       "      <th>...</th>\n",
       "      <td>...</td>\n",
       "      <td>...</td>\n",
       "      <td>...</td>\n",
       "      <td>...</td>\n",
       "      <td>...</td>\n",
       "    </tr>\n",
       "    <tr>\n",
       "      <th>2023-05-26</th>\n",
       "      <td>46000.0</td>\n",
       "      <td>56300.0</td>\n",
       "      <td>28600.0</td>\n",
       "      <td>17200</td>\n",
       "      <td>1063.76</td>\n",
       "    </tr>\n",
       "    <tr>\n",
       "      <th>2023-05-29</th>\n",
       "      <td>46000.0</td>\n",
       "      <td>56700.0</td>\n",
       "      <td>29000.0</td>\n",
       "      <td>18200</td>\n",
       "      <td>1074.98</td>\n",
       "    </tr>\n",
       "    <tr>\n",
       "      <th>2023-05-30</th>\n",
       "      <td>45800.0</td>\n",
       "      <td>56500.0</td>\n",
       "      <td>NaN</td>\n",
       "      <td>18400</td>\n",
       "      <td>1078.05</td>\n",
       "    </tr>\n",
       "    <tr>\n",
       "      <th>2023-05-31</th>\n",
       "      <td>47500.0</td>\n",
       "      <td>56200.0</td>\n",
       "      <td>29000.0</td>\n",
       "      <td>18200</td>\n",
       "      <td>1075.17</td>\n",
       "    </tr>\n",
       "    <tr>\n",
       "      <th>2023-06-01</th>\n",
       "      <td>47600.0</td>\n",
       "      <td>56000.0</td>\n",
       "      <td>29000.0</td>\n",
       "      <td>18800</td>\n",
       "      <td>1076.15</td>\n",
       "    </tr>\n",
       "  </tbody>\n",
       "</table>\n",
       "<p>752 rows × 5 columns</p>\n",
       "</div>"
      ],
      "text/plain": [
       "                PHR      DPR      TRC    GVR  VNIndex\n",
       "Date                                                 \n",
       "2020-06-01  53000.0  38700.0  28300.0  12850   878.67\n",
       "2020-06-02  51100.0  38100.0  28200.0  12550   874.80\n",
       "2020-06-03  54500.0  38150.0  28400.0  13000   881.17\n",
       "2020-06-04  53700.0  38150.0  30000.0  12700   883.90\n",
       "2020-06-05  54600.0  38250.0  29500.0  12900   886.22\n",
       "...             ...      ...      ...    ...      ...\n",
       "2023-05-26  46000.0  56300.0  28600.0  17200  1063.76\n",
       "2023-05-29  46000.0  56700.0  29000.0  18200  1074.98\n",
       "2023-05-30  45800.0  56500.0      NaN  18400  1078.05\n",
       "2023-05-31  47500.0  56200.0  29000.0  18200  1075.17\n",
       "2023-06-01  47600.0  56000.0  29000.0  18800  1076.15\n",
       "\n",
       "[752 rows x 5 columns]"
      ]
     },
     "execution_count": 5,
     "metadata": {},
     "output_type": "execute_result"
    }
   ],
   "source": [
    "port.columns = ['PHR','DPR','TRC','GVR','VNIndex']\n",
    "port"
   ]
  },
  {
   "cell_type": "code",
   "execution_count": 6,
   "id": "d9fd5650",
   "metadata": {},
   "outputs": [
    {
     "data": {
      "text/html": [
       "<div>\n",
       "<style scoped>\n",
       "    .dataframe tbody tr th:only-of-type {\n",
       "        vertical-align: middle;\n",
       "    }\n",
       "\n",
       "    .dataframe tbody tr th {\n",
       "        vertical-align: top;\n",
       "    }\n",
       "\n",
       "    .dataframe thead th {\n",
       "        text-align: right;\n",
       "    }\n",
       "</style>\n",
       "<table border=\"1\" class=\"dataframe\">\n",
       "  <thead>\n",
       "    <tr style=\"text-align: right;\">\n",
       "      <th></th>\n",
       "      <th>PHR</th>\n",
       "      <th>DPR</th>\n",
       "      <th>TRC</th>\n",
       "      <th>GVR</th>\n",
       "      <th>VNIndex</th>\n",
       "    </tr>\n",
       "    <tr>\n",
       "      <th>Date</th>\n",
       "      <th></th>\n",
       "      <th></th>\n",
       "      <th></th>\n",
       "      <th></th>\n",
       "      <th></th>\n",
       "    </tr>\n",
       "  </thead>\n",
       "  <tbody>\n",
       "    <tr>\n",
       "      <th>2020-06-02</th>\n",
       "      <td>-0.036507</td>\n",
       "      <td>-0.015625</td>\n",
       "      <td>-0.003540</td>\n",
       "      <td>-0.023623</td>\n",
       "      <td>-0.004414</td>\n",
       "    </tr>\n",
       "    <tr>\n",
       "      <th>2020-06-03</th>\n",
       "      <td>0.064416</td>\n",
       "      <td>0.001311</td>\n",
       "      <td>0.007067</td>\n",
       "      <td>0.035229</td>\n",
       "      <td>0.007255</td>\n",
       "    </tr>\n",
       "    <tr>\n",
       "      <th>2020-06-04</th>\n",
       "      <td>-0.014788</td>\n",
       "      <td>0.000000</td>\n",
       "      <td>0.054808</td>\n",
       "      <td>-0.023347</td>\n",
       "      <td>0.003093</td>\n",
       "    </tr>\n",
       "    <tr>\n",
       "      <th>2020-06-05</th>\n",
       "      <td>0.016621</td>\n",
       "      <td>0.002618</td>\n",
       "      <td>-0.016807</td>\n",
       "      <td>0.015625</td>\n",
       "      <td>0.002621</td>\n",
       "    </tr>\n",
       "    <tr>\n",
       "      <th>2020-06-08</th>\n",
       "      <td>0.001830</td>\n",
       "      <td>0.005215</td>\n",
       "      <td>0.016807</td>\n",
       "      <td>0.007722</td>\n",
       "      <td>0.015341</td>\n",
       "    </tr>\n",
       "    <tr>\n",
       "      <th>...</th>\n",
       "      <td>...</td>\n",
       "      <td>...</td>\n",
       "      <td>...</td>\n",
       "      <td>...</td>\n",
       "      <td>...</td>\n",
       "    </tr>\n",
       "    <tr>\n",
       "      <th>2023-05-19</th>\n",
       "      <td>0.040147</td>\n",
       "      <td>0.007326</td>\n",
       "      <td>0.000000</td>\n",
       "      <td>0.024923</td>\n",
       "      <td>-0.001161</td>\n",
       "    </tr>\n",
       "    <tr>\n",
       "      <th>2023-05-22</th>\n",
       "      <td>0.003466</td>\n",
       "      <td>0.025227</td>\n",
       "      <td>0.015666</td>\n",
       "      <td>0.015267</td>\n",
       "      <td>0.003340</td>\n",
       "    </tr>\n",
       "    <tr>\n",
       "      <th>2023-05-23</th>\n",
       "      <td>0.003454</td>\n",
       "      <td>-0.019767</td>\n",
       "      <td>-0.015666</td>\n",
       "      <td>-0.006079</td>\n",
       "      <td>-0.004484</td>\n",
       "    </tr>\n",
       "    <tr>\n",
       "      <th>2023-05-29</th>\n",
       "      <td>0.000000</td>\n",
       "      <td>0.007080</td>\n",
       "      <td>0.013889</td>\n",
       "      <td>0.056512</td>\n",
       "      <td>0.010492</td>\n",
       "    </tr>\n",
       "    <tr>\n",
       "      <th>2023-06-01</th>\n",
       "      <td>0.002103</td>\n",
       "      <td>-0.003565</td>\n",
       "      <td>0.000000</td>\n",
       "      <td>0.032435</td>\n",
       "      <td>0.000911</td>\n",
       "    </tr>\n",
       "  </tbody>\n",
       "</table>\n",
       "<p>625 rows × 5 columns</p>\n",
       "</div>"
      ],
      "text/plain": [
       "                 PHR       DPR       TRC       GVR   VNIndex\n",
       "Date                                                        \n",
       "2020-06-02 -0.036507 -0.015625 -0.003540 -0.023623 -0.004414\n",
       "2020-06-03  0.064416  0.001311  0.007067  0.035229  0.007255\n",
       "2020-06-04 -0.014788  0.000000  0.054808 -0.023347  0.003093\n",
       "2020-06-05  0.016621  0.002618 -0.016807  0.015625  0.002621\n",
       "2020-06-08  0.001830  0.005215  0.016807  0.007722  0.015341\n",
       "...              ...       ...       ...       ...       ...\n",
       "2023-05-19  0.040147  0.007326  0.000000  0.024923 -0.001161\n",
       "2023-05-22  0.003466  0.025227  0.015666  0.015267  0.003340\n",
       "2023-05-23  0.003454 -0.019767 -0.015666 -0.006079 -0.004484\n",
       "2023-05-29  0.000000  0.007080  0.013889  0.056512  0.010492\n",
       "2023-06-01  0.002103 -0.003565  0.000000  0.032435  0.000911\n",
       "\n",
       "[625 rows x 5 columns]"
      ]
     },
     "execution_count": 6,
     "metadata": {},
     "output_type": "execute_result"
    }
   ],
   "source": [
    "port_return = np.log(port/port.shift(1))\n",
    "port_return.dropna(inplace=True)\n",
    "port_return"
   ]
  },
  {
   "cell_type": "code",
   "execution_count": 7,
   "id": "0d340502",
   "metadata": {},
   "outputs": [
    {
     "data": {
      "text/html": [
       "<div>\n",
       "<style scoped>\n",
       "    .dataframe tbody tr th:only-of-type {\n",
       "        vertical-align: middle;\n",
       "    }\n",
       "\n",
       "    .dataframe tbody tr th {\n",
       "        vertical-align: top;\n",
       "    }\n",
       "\n",
       "    .dataframe thead th {\n",
       "        text-align: right;\n",
       "    }\n",
       "</style>\n",
       "<table border=\"1\" class=\"dataframe\">\n",
       "  <thead>\n",
       "    <tr style=\"text-align: right;\">\n",
       "      <th></th>\n",
       "      <th>PHR</th>\n",
       "      <th>DPR</th>\n",
       "      <th>TRC</th>\n",
       "      <th>GVR</th>\n",
       "      <th>VNIndex</th>\n",
       "    </tr>\n",
       "  </thead>\n",
       "  <tbody>\n",
       "    <tr>\n",
       "      <th>PHR</th>\n",
       "      <td>0.000711</td>\n",
       "      <td>0.000353</td>\n",
       "      <td>0.000195</td>\n",
       "      <td>0.000550</td>\n",
       "      <td>0.000244</td>\n",
       "    </tr>\n",
       "    <tr>\n",
       "      <th>DPR</th>\n",
       "      <td>0.000353</td>\n",
       "      <td>0.000566</td>\n",
       "      <td>0.000187</td>\n",
       "      <td>0.000406</td>\n",
       "      <td>0.000174</td>\n",
       "    </tr>\n",
       "    <tr>\n",
       "      <th>TRC</th>\n",
       "      <td>0.000195</td>\n",
       "      <td>0.000187</td>\n",
       "      <td>0.000788</td>\n",
       "      <td>0.000219</td>\n",
       "      <td>0.000102</td>\n",
       "    </tr>\n",
       "    <tr>\n",
       "      <th>GVR</th>\n",
       "      <td>0.000550</td>\n",
       "      <td>0.000406</td>\n",
       "      <td>0.000219</td>\n",
       "      <td>0.001018</td>\n",
       "      <td>0.000305</td>\n",
       "    </tr>\n",
       "    <tr>\n",
       "      <th>VNIndex</th>\n",
       "      <td>0.000244</td>\n",
       "      <td>0.000174</td>\n",
       "      <td>0.000102</td>\n",
       "      <td>0.000305</td>\n",
       "      <td>0.000196</td>\n",
       "    </tr>\n",
       "  </tbody>\n",
       "</table>\n",
       "</div>"
      ],
      "text/plain": [
       "              PHR       DPR       TRC       GVR   VNIndex\n",
       "PHR      0.000711  0.000353  0.000195  0.000550  0.000244\n",
       "DPR      0.000353  0.000566  0.000187  0.000406  0.000174\n",
       "TRC      0.000195  0.000187  0.000788  0.000219  0.000102\n",
       "GVR      0.000550  0.000406  0.000219  0.001018  0.000305\n",
       "VNIndex  0.000244  0.000174  0.000102  0.000305  0.000196"
      ]
     },
     "execution_count": 7,
     "metadata": {},
     "output_type": "execute_result"
    }
   ],
   "source": [
    "port_Cov = port_return.cov()\n",
    "port_Cov"
   ]
  },
  {
   "cell_type": "code",
   "execution_count": 8,
   "id": "137ddf03",
   "metadata": {},
   "outputs": [
    {
     "data": {
      "text/html": [
       "<div>\n",
       "<style scoped>\n",
       "    .dataframe tbody tr th:only-of-type {\n",
       "        vertical-align: middle;\n",
       "    }\n",
       "\n",
       "    .dataframe tbody tr th {\n",
       "        vertical-align: top;\n",
       "    }\n",
       "\n",
       "    .dataframe thead th {\n",
       "        text-align: right;\n",
       "    }\n",
       "</style>\n",
       "<table border=\"1\" class=\"dataframe\">\n",
       "  <thead>\n",
       "    <tr style=\"text-align: right;\">\n",
       "      <th></th>\n",
       "      <th>PHR</th>\n",
       "      <th>DPR</th>\n",
       "      <th>TRC</th>\n",
       "      <th>GVR</th>\n",
       "      <th>VNIndex</th>\n",
       "    </tr>\n",
       "  </thead>\n",
       "  <tbody>\n",
       "    <tr>\n",
       "      <th>PHR</th>\n",
       "      <td>1.000000</td>\n",
       "      <td>0.556540</td>\n",
       "      <td>0.260105</td>\n",
       "      <td>0.645872</td>\n",
       "      <td>0.654304</td>\n",
       "    </tr>\n",
       "    <tr>\n",
       "      <th>DPR</th>\n",
       "      <td>0.556540</td>\n",
       "      <td>1.000000</td>\n",
       "      <td>0.279869</td>\n",
       "      <td>0.535593</td>\n",
       "      <td>0.522318</td>\n",
       "    </tr>\n",
       "    <tr>\n",
       "      <th>TRC</th>\n",
       "      <td>0.260105</td>\n",
       "      <td>0.279869</td>\n",
       "      <td>1.000000</td>\n",
       "      <td>0.244523</td>\n",
       "      <td>0.259663</td>\n",
       "    </tr>\n",
       "    <tr>\n",
       "      <th>GVR</th>\n",
       "      <td>0.645872</td>\n",
       "      <td>0.535593</td>\n",
       "      <td>0.244523</td>\n",
       "      <td>1.000000</td>\n",
       "      <td>0.681787</td>\n",
       "    </tr>\n",
       "    <tr>\n",
       "      <th>VNIndex</th>\n",
       "      <td>0.654304</td>\n",
       "      <td>0.522318</td>\n",
       "      <td>0.259663</td>\n",
       "      <td>0.681787</td>\n",
       "      <td>1.000000</td>\n",
       "    </tr>\n",
       "  </tbody>\n",
       "</table>\n",
       "</div>"
      ],
      "text/plain": [
       "              PHR       DPR       TRC       GVR   VNIndex\n",
       "PHR      1.000000  0.556540  0.260105  0.645872  0.654304\n",
       "DPR      0.556540  1.000000  0.279869  0.535593  0.522318\n",
       "TRC      0.260105  0.279869  1.000000  0.244523  0.259663\n",
       "GVR      0.645872  0.535593  0.244523  1.000000  0.681787\n",
       "VNIndex  0.654304  0.522318  0.259663  0.681787  1.000000"
      ]
     },
     "execution_count": 8,
     "metadata": {},
     "output_type": "execute_result"
    }
   ],
   "source": [
    "port_Corr = port_return.corr()\n",
    "port_Corr"
   ]
  },
  {
   "cell_type": "code",
   "execution_count": 9,
   "id": "08cb1bdc",
   "metadata": {},
   "outputs": [
    {
     "data": {
      "text/plain": [
       "array([[ True,  True,  True,  True,  True],\n",
       "       [ True,  True,  True,  True,  True],\n",
       "       [ True,  True,  True,  True,  True],\n",
       "       [ True,  True,  True,  True,  True],\n",
       "       [ True,  True,  True,  True,  True]])"
      ]
     },
     "execution_count": 9,
     "metadata": {},
     "output_type": "execute_result"
    }
   ],
   "source": [
    "ones_Corr = np.ones_like(port_Corr,dtype=bool)\n",
    "ones_Corr"
   ]
  },
  {
   "cell_type": "code",
   "execution_count": 10,
   "id": "bd499fe3",
   "metadata": {},
   "outputs": [
    {
     "data": {
      "text/plain": [
       "array([[ True,  True,  True,  True,  True],\n",
       "       [False,  True,  True,  True,  True],\n",
       "       [False, False,  True,  True,  True],\n",
       "       [False, False, False,  True,  True],\n",
       "       [False, False, False, False,  True]])"
      ]
     },
     "execution_count": 10,
     "metadata": {},
     "output_type": "execute_result"
    }
   ],
   "source": [
    "mask = np.triu(ones_Corr)\n",
    "mask"
   ]
  },
  {
   "cell_type": "code",
   "execution_count": 11,
   "id": "46130be0",
   "metadata": {},
   "outputs": [
    {
     "data": {
      "text/plain": [
       "array([[False,  True,  True,  True],\n",
       "       [False, False,  True,  True],\n",
       "       [False, False, False,  True],\n",
       "       [False, False, False, False]])"
      ]
     },
     "execution_count": 11,
     "metadata": {},
     "output_type": "execute_result"
    }
   ],
   "source": [
    "adjust_mask = mask[1:, :-1]\n",
    "adjust_mask"
   ]
  },
  {
   "cell_type": "code",
   "execution_count": 12,
   "id": "12b96cc3",
   "metadata": {},
   "outputs": [],
   "source": [
    "adjust_port_Corr = port_Corr.iloc[1:, :-1]"
   ]
  },
  {
   "cell_type": "code",
   "execution_count": 13,
   "id": "be929e12",
   "metadata": {},
   "outputs": [
    {
     "data": {
      "text/plain": [
       "Text(0.5, 1.0, 'Tương quan giữa từng loại tài sản trong danh mục\\n')"
      ]
     },
     "execution_count": 13,
     "metadata": {},
     "output_type": "execute_result"
    },
    {
     "data": {
      "image/png": "[encoded data removed]",
      "text/plain": [
       "<Figure size 720x576 with 2 Axes>"
      ]
     },
     "metadata": {
      "needs_background": "light"
     },
     "output_type": "display_data"
    }
   ],
   "source": [
    "fig, ax = plt.subplots(figsize=(10,8))\n",
    "\n",
    "cmap = sns.diverging_palette(0, 230, 90, 60, as_cmap=True)\n",
    "\n",
    "sns.heatmap(data=adjust_port_Corr, mask=adjust_mask, annot=True, cmap=cmap,linecolor='White',linewidths=0.1)\n",
    "\n",
    "title = 'Tương quan giữa từng loại tài sản trong danh mục\\n'\n",
    "ax.set_title(title, loc='center',fontsize=20)"
   ]
  },
  {
   "cell_type": "code",
   "execution_count": 16,
   "id": "7979617e",
   "metadata": {},
   "outputs": [],
   "source": [
    "Cov_PHR_VNIndex = port_Cov.iloc[0,4]"
   ]
  },
  {
   "cell_type": "code",
   "execution_count": 17,
   "id": "fadf42cc",
   "metadata": {
    "scrolled": true
   },
   "outputs": [
    {
     "data": {
      "text/plain": [
       "0.0002444067662223467"
      ]
     },
     "execution_count": 17,
     "metadata": {},
     "output_type": "execute_result"
    }
   ],
   "source": [
    "Cov_PHR_VNIndex"
   ]
  },
  {
   "cell_type": "code",
   "execution_count": 18,
   "id": "ad71e411",
   "metadata": {},
   "outputs": [],
   "source": [
    "Cov_DPR_VNIndex = port_Cov.iloc[1,4]"
   ]
  },
  {
   "cell_type": "code",
   "execution_count": 19,
   "id": "af5d626e",
   "metadata": {},
   "outputs": [
    {
     "data": {
      "text/plain": [
       "0.00017399829176335804"
      ]
     },
     "execution_count": 19,
     "metadata": {},
     "output_type": "execute_result"
    }
   ],
   "source": [
    "Cov_DPR_VNIndex"
   ]
  },
  {
   "cell_type": "code",
   "execution_count": 20,
   "id": "988c80de",
   "metadata": {},
   "outputs": [],
   "source": [
    "Cov_TRC_VNIndex = port_Cov.iloc[2,4]"
   ]
  },
  {
   "cell_type": "code",
   "execution_count": 21,
   "id": "af8e2379",
   "metadata": {},
   "outputs": [
    {
     "data": {
      "text/plain": [
       "0.00010207250812557243"
      ]
     },
     "execution_count": 21,
     "metadata": {},
     "output_type": "execute_result"
    }
   ],
   "source": [
    "Cov_TRC_VNIndex"
   ]
  },
  {
   "cell_type": "code",
   "execution_count": 22,
   "id": "5249573d",
   "metadata": {},
   "outputs": [],
   "source": [
    "Cov_GVR_VNIndex = port_Cov.iloc[3,4]"
   ]
  },
  {
   "cell_type": "code",
   "execution_count": 23,
   "id": "25174f94",
   "metadata": {},
   "outputs": [
    {
     "data": {
      "text/plain": [
       "0.0003047712012371585"
      ]
     },
     "execution_count": 23,
     "metadata": {},
     "output_type": "execute_result"
    }
   ],
   "source": [
    "Cov_GVR_VNIndex"
   ]
  },
  {
   "cell_type": "code",
   "execution_count": 24,
   "id": "144df18b",
   "metadata": {},
   "outputs": [],
   "source": [
    "VNIndex_Var = port_return['VNIndex'].var()"
   ]
  },
  {
   "cell_type": "code",
   "execution_count": 25,
   "id": "ac807c04",
   "metadata": {},
   "outputs": [
    {
     "data": {
      "text/plain": [
       "0.00019621644708330132"
      ]
     },
     "execution_count": 25,
     "metadata": {},
     "output_type": "execute_result"
    }
   ],
   "source": [
    "VNIndex_Var"
   ]
  },
  {
   "cell_type": "markdown",
   "id": "63ad227b",
   "metadata": {},
   "source": [
    "## Tính Beta"
   ]
  },
  {
   "cell_type": "code",
   "execution_count": 27,
   "id": "d27f7dc7",
   "metadata": {},
   "outputs": [],
   "source": [
    "PHR_Beta = Cov_PHR_VNIndex/VNIndex_Var\n",
    "DPR_Beta = Cov_DPR_VNIndex/VNIndex_Var\n",
    "TRC_Beta = Cov_TRC_VNIndex/VNIndex_Var\n",
    "GVR_Beta = Cov_GVR_VNIndex/VNIndex_Var"
   ]
  },
  {
   "cell_type": "markdown",
   "id": "4ffe4277",
   "metadata": {},
   "source": [
    "## Giá trị Beta của PHR"
   ]
  },
  {
   "cell_type": "code",
   "execution_count": 28,
   "id": "1c205302",
   "metadata": {
    "scrolled": true
   },
   "outputs": [
    {
     "data": {
      "text/plain": [
       "1.2455977562298168"
      ]
     },
     "execution_count": 28,
     "metadata": {},
     "output_type": "execute_result"
    }
   ],
   "source": [
    "PHR_Beta"
   ]
  },
  {
   "cell_type": "markdown",
   "id": "df5f4154",
   "metadata": {},
   "source": [
    "## Giá trị Beta của DPR"
   ]
  },
  {
   "cell_type": "code",
   "execution_count": 29,
   "id": "31c9cdba",
   "metadata": {},
   "outputs": [
    {
     "data": {
      "text/plain": [
       "0.8867671102488629"
      ]
     },
     "execution_count": 29,
     "metadata": {},
     "output_type": "execute_result"
    }
   ],
   "source": [
    "DPR_Beta"
   ]
  },
  {
   "cell_type": "markdown",
   "id": "493d4baa",
   "metadata": {},
   "source": [
    "## Giá trị Beta của TRC"
   ]
  },
  {
   "cell_type": "code",
   "execution_count": 30,
   "id": "2322308a",
   "metadata": {},
   "outputs": [
    {
     "data": {
      "text/plain": [
       "0.5202036304440819"
      ]
     },
     "execution_count": 30,
     "metadata": {},
     "output_type": "execute_result"
    }
   ],
   "source": [
    "TRC_Beta"
   ]
  },
  {
   "cell_type": "markdown",
   "id": "022ecfdc",
   "metadata": {},
   "source": [
    "## Giá trị Beta của GVR"
   ]
  },
  {
   "cell_type": "code",
   "execution_count": 31,
   "id": "57019649",
   "metadata": {},
   "outputs": [
    {
     "data": {
      "text/plain": [
       "1.5532398316628961"
      ]
     },
     "execution_count": 31,
     "metadata": {},
     "output_type": "execute_result"
    }
   ],
   "source": [
    "GVR_Beta"
   ]
  },
  {
   "cell_type": "markdown",
   "id": "b68d900c",
   "metadata": {},
   "source": [
    "## Regplot"
   ]
  },
  {
   "cell_type": "code",
   "execution_count": 32,
   "id": "877816e8",
   "metadata": {},
   "outputs": [],
   "source": [
    "y_PHR = port_return['PHR']\n",
    "y_DPR = port_return['DPR']\n",
    "y_TRC = port_return['TRC']\n",
    "y_GVR = port_return['GVR']\n",
    "x_VNIndex = port_return['VNIndex']"
   ]
  },
  {
   "cell_type": "code",
   "execution_count": 38,
   "id": "836c81c0",
   "metadata": {},
   "outputs": [
    {
     "data": {
      "image/png": "[encoded data removed]",
      "text/plain": [
       "<Figure size 720x576 with 4 Axes>"
      ]
     },
     "metadata": {
      "needs_background": "light"
     },
     "output_type": "display_data"
    }
   ],
   "source": [
    "label = ['PHR','DPR','TRC','GVR','VNIndex']\n",
    "y = 2\n",
    "x = 2\n",
    "\n",
    "fig, ax = plt.subplots(y, x, figsize =(y*5, x*4))\n",
    "\n",
    "for r in range(0, y):\n",
    "    for c in range(0, x):\n",
    "        i = r*x + c\n",
    "        if i < len(label):\n",
    "            ax_i = ax[r,c]\n",
    "            sns.regplot(data=port_return, x=label[i], y=x_VNIndex, ax=ax_i)\n",
    "            ax_i.set_title(f\"Figure {i+1}: Chỉ số VNIndex và {label[i]}\\n\", fontsize=13)\n",
    "plt.tight_layout()"
   ]
  }
 ],
 "metadata": {
  "kernelspec": {
   "display_name": "Python 3 (ipykernel)",
   "language": "python",
   "name": "python3"
  },
  "language_info": {
   "codemirror_mode": {
    "name": "ipython",
    "version": 3
   },
   "file_extension": ".py",
   "mimetype": "text/x-python",
   "name": "python",
   "nbconvert_exporter": "python",
   "pygments_lexer": "ipython3",
   "version": "3.9.12"
  }
 },
 "nbformat": 4,
 "nbformat_minor": 5
}
